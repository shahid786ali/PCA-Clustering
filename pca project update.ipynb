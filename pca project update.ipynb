{
 "cells": [
  {
   "cell_type": "markdown",
   "id": "7a2915b9",
   "metadata": {},
   "source": [
    "# Name = Shahid Ali\n",
    "section 4"
   ]
  },
  {
   "cell_type": "code",
   "execution_count": null,
   "id": "8d6fdd23",
   "metadata": {},
   "outputs": [],
   "source": [
    "import numpy as np\n",
    "import pandas as pd\n",
    "import matplotlib.pyplot as plt\n",
    "from sklearn.decomposition import PCA\n",
    "from sklearn.cluster import KMeans , MeanShift ,AgglomerativeClustering\n",
    "from sklearn.preprocessing import StandardScaler\n",
    "from sklearn.metrics import silhouette_score"
   ]
  },
  {
   "cell_type": "markdown",
   "id": "4dbaec30",
   "metadata": {},
   "source": [
    "# load data"
   ]
  },
  {
   "cell_type": "code",
   "execution_count": 3,
   "id": "c642cee7",
   "metadata": {},
   "outputs": [
    {
     "data": {
      "text/html": [
       "<div>\n",
       "<style scoped>\n",
       "    .dataframe tbody tr th:only-of-type {\n",
       "        vertical-align: middle;\n",
       "    }\n",
       "\n",
       "    .dataframe tbody tr th {\n",
       "        vertical-align: top;\n",
       "    }\n",
       "\n",
       "    .dataframe thead th {\n",
       "        text-align: right;\n",
       "    }\n",
       "</style>\n",
       "<table border=\"1\" class=\"dataframe\">\n",
       "  <thead>\n",
       "    <tr style=\"text-align: right;\">\n",
       "      <th></th>\n",
       "      <th>id</th>\n",
       "      <th>target</th>\n",
       "      <th>feature01</th>\n",
       "      <th>feature02</th>\n",
       "      <th>feature03</th>\n",
       "      <th>feature04</th>\n",
       "      <th>feature05</th>\n",
       "      <th>feature06</th>\n",
       "      <th>feature07</th>\n",
       "      <th>feature08</th>\n",
       "      <th>...</th>\n",
       "      <th>feature14</th>\n",
       "      <th>feature15</th>\n",
       "      <th>feature16</th>\n",
       "      <th>feature17</th>\n",
       "      <th>feature18</th>\n",
       "      <th>feature19</th>\n",
       "      <th>feature20</th>\n",
       "      <th>feature21</th>\n",
       "      <th>feature22</th>\n",
       "      <th>feature23</th>\n",
       "    </tr>\n",
       "  </thead>\n",
       "  <tbody>\n",
       "    <tr>\n",
       "      <th>0</th>\n",
       "      <td>1</td>\n",
       "      <td>215000</td>\n",
       "      <td>2.0</td>\n",
       "      <td>528.0</td>\n",
       "      <td>0</td>\n",
       "      <td>1080.0</td>\n",
       "      <td>1656</td>\n",
       "      <td>7</td>\n",
       "      <td>1656</td>\n",
       "      <td>6</td>\n",
       "      <td>...</td>\n",
       "      <td>2</td>\n",
       "      <td>good</td>\n",
       "      <td>bad</td>\n",
       "      <td>3</td>\n",
       "      <td>1</td>\n",
       "      <td>5</td>\n",
       "      <td>2010</td>\n",
       "      <td>0</td>\n",
       "      <td>0</td>\n",
       "      <td>1960</td>\n",
       "    </tr>\n",
       "    <tr>\n",
       "      <th>1</th>\n",
       "      <td>2</td>\n",
       "      <td>105000</td>\n",
       "      <td>1.0</td>\n",
       "      <td>730.0</td>\n",
       "      <td>0</td>\n",
       "      <td>882.0</td>\n",
       "      <td>896</td>\n",
       "      <td>5</td>\n",
       "      <td>896</td>\n",
       "      <td>5</td>\n",
       "      <td>...</td>\n",
       "      <td>0</td>\n",
       "      <td>NaN</td>\n",
       "      <td>bad</td>\n",
       "      <td>2</td>\n",
       "      <td>1</td>\n",
       "      <td>6</td>\n",
       "      <td>2010</td>\n",
       "      <td>0</td>\n",
       "      <td>0</td>\n",
       "      <td>1961</td>\n",
       "    </tr>\n",
       "    <tr>\n",
       "      <th>2</th>\n",
       "      <td>3</td>\n",
       "      <td>172000</td>\n",
       "      <td>1.0</td>\n",
       "      <td>312.0</td>\n",
       "      <td>0</td>\n",
       "      <td>1329.0</td>\n",
       "      <td>1329</td>\n",
       "      <td>6</td>\n",
       "      <td>1329</td>\n",
       "      <td>6</td>\n",
       "      <td>...</td>\n",
       "      <td>0</td>\n",
       "      <td>NaN</td>\n",
       "      <td>good</td>\n",
       "      <td>3</td>\n",
       "      <td>1</td>\n",
       "      <td>6</td>\n",
       "      <td>2010</td>\n",
       "      <td>1</td>\n",
       "      <td>0</td>\n",
       "      <td>1958</td>\n",
       "    </tr>\n",
       "    <tr>\n",
       "      <th>3</th>\n",
       "      <td>4</td>\n",
       "      <td>244000</td>\n",
       "      <td>2.0</td>\n",
       "      <td>522.0</td>\n",
       "      <td>0</td>\n",
       "      <td>2110.0</td>\n",
       "      <td>2110</td>\n",
       "      <td>8</td>\n",
       "      <td>2110</td>\n",
       "      <td>7</td>\n",
       "      <td>...</td>\n",
       "      <td>2</td>\n",
       "      <td>bad</td>\n",
       "      <td>amazing</td>\n",
       "      <td>3</td>\n",
       "      <td>1</td>\n",
       "      <td>4</td>\n",
       "      <td>2010</td>\n",
       "      <td>1</td>\n",
       "      <td>0</td>\n",
       "      <td>1968</td>\n",
       "    </tr>\n",
       "    <tr>\n",
       "      <th>4</th>\n",
       "      <td>5</td>\n",
       "      <td>189900</td>\n",
       "      <td>2.0</td>\n",
       "      <td>482.0</td>\n",
       "      <td>0</td>\n",
       "      <td>928.0</td>\n",
       "      <td>928</td>\n",
       "      <td>6</td>\n",
       "      <td>1629</td>\n",
       "      <td>5</td>\n",
       "      <td>...</td>\n",
       "      <td>1</td>\n",
       "      <td>bad</td>\n",
       "      <td>bad</td>\n",
       "      <td>3</td>\n",
       "      <td>1</td>\n",
       "      <td>3</td>\n",
       "      <td>2010</td>\n",
       "      <td>1</td>\n",
       "      <td>701</td>\n",
       "      <td>1998</td>\n",
       "    </tr>\n",
       "  </tbody>\n",
       "</table>\n",
       "<p>5 rows × 26 columns</p>\n",
       "</div>"
      ],
      "text/plain": [
       "   id  target  feature01  feature02  feature03  feature04  feature05  \\\n",
       "0   1  215000        2.0      528.0          0     1080.0       1656   \n",
       "1   2  105000        1.0      730.0          0      882.0        896   \n",
       "2   3  172000        1.0      312.0          0     1329.0       1329   \n",
       "3   4  244000        2.0      522.0          0     2110.0       2110   \n",
       "4   5  189900        2.0      482.0          0      928.0        928   \n",
       "\n",
       "   feature06  feature07  feature08  ...  feature14  feature15  feature16  \\\n",
       "0          7       1656          6  ...          2       good        bad   \n",
       "1          5        896          5  ...          0        NaN        bad   \n",
       "2          6       1329          6  ...          0        NaN       good   \n",
       "3          8       2110          7  ...          2        bad    amazing   \n",
       "4          6       1629          5  ...          1        bad        bad   \n",
       "\n",
       "  feature17 feature18 feature19  feature20 feature21 feature22  feature23  \n",
       "0         3         1         5       2010         0         0       1960  \n",
       "1         2         1         6       2010         0         0       1961  \n",
       "2         3         1         6       2010         1         0       1958  \n",
       "3         3         1         4       2010         1         0       1968  \n",
       "4         3         1         3       2010         1       701       1998  \n",
       "\n",
       "[5 rows x 26 columns]"
      ]
     },
     "execution_count": 3,
     "metadata": {},
     "output_type": "execute_result"
    }
   ],
   "source": [
    "data = pd.read_csv(\"prediktiv_data.csv\")\n",
    "data.head()"
   ]
  },
  {
   "cell_type": "code",
   "execution_count": 4,
   "id": "8452cab9",
   "metadata": {},
   "outputs": [
    {
     "data": {
      "text/plain": [
       "Index(['id', 'target', 'feature01', 'feature02', 'feature03', 'feature04',\n",
       "       'feature05', 'feature06', 'feature07', 'feature08', 'feature09',\n",
       "       'feature10', 'feature10.1', 'feature11', 'feature12', 'feature13',\n",
       "       'feature14', 'feature15', 'feature16', 'feature17', 'feature18',\n",
       "       'feature19', 'feature20', 'feature21', 'feature22', 'feature23'],\n",
       "      dtype='object')"
      ]
     },
     "execution_count": 4,
     "metadata": {},
     "output_type": "execute_result"
    }
   ],
   "source": [
    "data.columns\n"
   ]
  },
  {
   "cell_type": "code",
   "execution_count": 5,
   "id": "e387ffe4",
   "metadata": {},
   "outputs": [
    {
     "name": "stdout",
     "output_type": "stream",
     "text": [
      "<class 'pandas.core.frame.DataFrame'>\n",
      "RangeIndex: 2930 entries, 0 to 2929\n",
      "Data columns (total 26 columns):\n",
      " #   Column       Non-Null Count  Dtype  \n",
      "---  ------       --------------  -----  \n",
      " 0   id           2930 non-null   int64  \n",
      " 1   target       2930 non-null   int64  \n",
      " 2   feature01    2929 non-null   float64\n",
      " 3   feature02    2929 non-null   float64\n",
      " 4   feature03    2930 non-null   int64  \n",
      " 5   feature04    2929 non-null   float64\n",
      " 6   feature05    2930 non-null   int64  \n",
      " 7   feature06    2930 non-null   int64  \n",
      " 8   feature07    2930 non-null   int64  \n",
      " 9   feature08    2930 non-null   int64  \n",
      " 10  feature09    2930 non-null   int64  \n",
      " 11  feature10    2930 non-null   int64  \n",
      " 12  feature10.1  2930 non-null   int64  \n",
      " 13  feature11    198 non-null    object \n",
      " 14  feature12    572 non-null    object \n",
      " 15  feature13    2929 non-null   object \n",
      " 16  feature14    2930 non-null   int64  \n",
      " 17  feature15    1508 non-null   object \n",
      " 18  feature16    2930 non-null   object \n",
      " 19  feature17    2930 non-null   int64  \n",
      " 20  feature18    2930 non-null   int64  \n",
      " 21  feature19    2930 non-null   int64  \n",
      " 22  feature20    2930 non-null   int64  \n",
      " 23  feature21    2930 non-null   int64  \n",
      " 24  feature22    2930 non-null   int64  \n",
      " 25  feature23    2930 non-null   int64  \n",
      "dtypes: float64(3), int64(18), object(5)\n",
      "memory usage: 595.3+ KB\n"
     ]
    }
   ],
   "source": [
    "data.info()"
   ]
  },
  {
   "cell_type": "markdown",
   "id": "8d9499de",
   "metadata": {},
   "source": [
    "# preprocessing the data"
   ]
  },
  {
   "cell_type": "code",
   "execution_count": 6,
   "id": "ebdcc112",
   "metadata": {},
   "outputs": [],
   "source": [
    "data = data.drop(['id' , 'target'] , axis = 1)\n",
    "# Separate numeric and non-numeric columns\n",
    "numeric_columns = data.select_dtypes(include=[np.number])\n",
    "non_numeric_columns = data.select_dtypes(exclude=[np.number])\n",
    "# Fill missing values in numeric columns with the mean\n",
    "numeric_columns = numeric_columns.fillna(numeric_columns.mean())\n"
   ]
  },
  {
   "cell_type": "code",
   "execution_count": 7,
   "id": "e6d28115",
   "metadata": {},
   "outputs": [],
   "source": [
    "# numeric_columns\n",
    "# non_numeric_columns"
   ]
  },
  {
   "cell_type": "code",
   "execution_count": 8,
   "id": "0ebe0581",
   "metadata": {},
   "outputs": [
    {
     "data": {
      "text/html": [
       "<div>\n",
       "<style scoped>\n",
       "    .dataframe tbody tr th:only-of-type {\n",
       "        vertical-align: middle;\n",
       "    }\n",
       "\n",
       "    .dataframe tbody tr th {\n",
       "        vertical-align: top;\n",
       "    }\n",
       "\n",
       "    .dataframe thead th {\n",
       "        text-align: right;\n",
       "    }\n",
       "</style>\n",
       "<table border=\"1\" class=\"dataframe\">\n",
       "  <thead>\n",
       "    <tr style=\"text-align: right;\">\n",
       "      <th></th>\n",
       "      <th>feature01</th>\n",
       "      <th>feature02</th>\n",
       "      <th>feature03</th>\n",
       "      <th>feature04</th>\n",
       "      <th>feature05</th>\n",
       "      <th>feature06</th>\n",
       "      <th>feature07</th>\n",
       "      <th>feature08</th>\n",
       "      <th>feature09</th>\n",
       "      <th>feature10</th>\n",
       "      <th>...</th>\n",
       "      <th>feature14</th>\n",
       "      <th>feature15</th>\n",
       "      <th>feature16</th>\n",
       "      <th>feature17</th>\n",
       "      <th>feature18</th>\n",
       "      <th>feature19</th>\n",
       "      <th>feature20</th>\n",
       "      <th>feature21</th>\n",
       "      <th>feature22</th>\n",
       "      <th>feature23</th>\n",
       "    </tr>\n",
       "  </thead>\n",
       "  <tbody>\n",
       "    <tr>\n",
       "      <th>0</th>\n",
       "      <td>2.0</td>\n",
       "      <td>528.0</td>\n",
       "      <td>0</td>\n",
       "      <td>1080.0</td>\n",
       "      <td>1656</td>\n",
       "      <td>7</td>\n",
       "      <td>1656</td>\n",
       "      <td>6</td>\n",
       "      <td>5</td>\n",
       "      <td>1960</td>\n",
       "      <td>...</td>\n",
       "      <td>2</td>\n",
       "      <td>good</td>\n",
       "      <td>bad</td>\n",
       "      <td>3</td>\n",
       "      <td>1</td>\n",
       "      <td>5</td>\n",
       "      <td>2010</td>\n",
       "      <td>0</td>\n",
       "      <td>0</td>\n",
       "      <td>1960</td>\n",
       "    </tr>\n",
       "    <tr>\n",
       "      <th>1</th>\n",
       "      <td>1.0</td>\n",
       "      <td>730.0</td>\n",
       "      <td>0</td>\n",
       "      <td>882.0</td>\n",
       "      <td>896</td>\n",
       "      <td>5</td>\n",
       "      <td>896</td>\n",
       "      <td>5</td>\n",
       "      <td>6</td>\n",
       "      <td>1961</td>\n",
       "      <td>...</td>\n",
       "      <td>0</td>\n",
       "      <td>NaN</td>\n",
       "      <td>bad</td>\n",
       "      <td>2</td>\n",
       "      <td>1</td>\n",
       "      <td>6</td>\n",
       "      <td>2010</td>\n",
       "      <td>0</td>\n",
       "      <td>0</td>\n",
       "      <td>1961</td>\n",
       "    </tr>\n",
       "    <tr>\n",
       "      <th>2</th>\n",
       "      <td>1.0</td>\n",
       "      <td>312.0</td>\n",
       "      <td>0</td>\n",
       "      <td>1329.0</td>\n",
       "      <td>1329</td>\n",
       "      <td>6</td>\n",
       "      <td>1329</td>\n",
       "      <td>6</td>\n",
       "      <td>6</td>\n",
       "      <td>1958</td>\n",
       "      <td>...</td>\n",
       "      <td>0</td>\n",
       "      <td>NaN</td>\n",
       "      <td>good</td>\n",
       "      <td>3</td>\n",
       "      <td>1</td>\n",
       "      <td>6</td>\n",
       "      <td>2010</td>\n",
       "      <td>1</td>\n",
       "      <td>0</td>\n",
       "      <td>1958</td>\n",
       "    </tr>\n",
       "    <tr>\n",
       "      <th>3</th>\n",
       "      <td>2.0</td>\n",
       "      <td>522.0</td>\n",
       "      <td>0</td>\n",
       "      <td>2110.0</td>\n",
       "      <td>2110</td>\n",
       "      <td>8</td>\n",
       "      <td>2110</td>\n",
       "      <td>7</td>\n",
       "      <td>5</td>\n",
       "      <td>1968</td>\n",
       "      <td>...</td>\n",
       "      <td>2</td>\n",
       "      <td>bad</td>\n",
       "      <td>amazing</td>\n",
       "      <td>3</td>\n",
       "      <td>1</td>\n",
       "      <td>4</td>\n",
       "      <td>2010</td>\n",
       "      <td>1</td>\n",
       "      <td>0</td>\n",
       "      <td>1968</td>\n",
       "    </tr>\n",
       "    <tr>\n",
       "      <th>4</th>\n",
       "      <td>2.0</td>\n",
       "      <td>482.0</td>\n",
       "      <td>0</td>\n",
       "      <td>928.0</td>\n",
       "      <td>928</td>\n",
       "      <td>6</td>\n",
       "      <td>1629</td>\n",
       "      <td>5</td>\n",
       "      <td>5</td>\n",
       "      <td>1997</td>\n",
       "      <td>...</td>\n",
       "      <td>1</td>\n",
       "      <td>bad</td>\n",
       "      <td>bad</td>\n",
       "      <td>3</td>\n",
       "      <td>1</td>\n",
       "      <td>3</td>\n",
       "      <td>2010</td>\n",
       "      <td>1</td>\n",
       "      <td>701</td>\n",
       "      <td>1998</td>\n",
       "    </tr>\n",
       "  </tbody>\n",
       "</table>\n",
       "<p>5 rows × 24 columns</p>\n",
       "</div>"
      ],
      "text/plain": [
       "   feature01  feature02  feature03  feature04  feature05  feature06  \\\n",
       "0        2.0      528.0          0     1080.0       1656          7   \n",
       "1        1.0      730.0          0      882.0        896          5   \n",
       "2        1.0      312.0          0     1329.0       1329          6   \n",
       "3        2.0      522.0          0     2110.0       2110          8   \n",
       "4        2.0      482.0          0      928.0        928          6   \n",
       "\n",
       "   feature07  feature08  feature09  feature10  ...  feature14 feature15  \\\n",
       "0       1656          6          5       1960  ...          2      good   \n",
       "1        896          5          6       1961  ...          0       NaN   \n",
       "2       1329          6          6       1958  ...          0       NaN   \n",
       "3       2110          7          5       1968  ...          2       bad   \n",
       "4       1629          5          5       1997  ...          1       bad   \n",
       "\n",
       "  feature16 feature17  feature18 feature19 feature20  feature21  feature22  \\\n",
       "0       bad         3          1         5      2010          0          0   \n",
       "1       bad         2          1         6      2010          0          0   \n",
       "2      good         3          1         6      2010          1          0   \n",
       "3   amazing         3          1         4      2010          1          0   \n",
       "4       bad         3          1         3      2010          1        701   \n",
       "\n",
       "   feature23  \n",
       "0       1960  \n",
       "1       1961  \n",
       "2       1958  \n",
       "3       1968  \n",
       "4       1998  \n",
       "\n",
       "[5 rows x 24 columns]"
      ]
     },
     "execution_count": 8,
     "metadata": {},
     "output_type": "execute_result"
    }
   ],
   "source": [
    "data.head()"
   ]
  },
  {
   "cell_type": "code",
   "execution_count": 9,
   "id": "af435c13",
   "metadata": {},
   "outputs": [],
   "source": [
    "# Standardize the numeric data \n",
    "scaler = StandardScaler()\n",
    "numeric_columns_scaled = scaler.fit_transform(numeric_columns)\n"
   ]
  },
  {
   "cell_type": "code",
   "execution_count": 10,
   "id": "499f4b02",
   "metadata": {},
   "outputs": [],
   "source": [
    "# Combine the standardized numeric data and non-numeric columns\n",
    "data_scaled = pd.concat([pd.DataFrame(numeric_columns_scaled, columns=numeric_columns.columns), non_numeric_columns], axis=1)"
   ]
  },
  {
   "cell_type": "code",
   "execution_count": 11,
   "id": "00e6bcfc",
   "metadata": {},
   "outputs": [],
   "source": [
    "# Apply PCA\n",
    "pca = PCA(n_components=2) \n",
    "pca_result = pca.fit_transform(numeric_columns_scaled)"
   ]
  },
  {
   "cell_type": "markdown",
   "id": "9a22c250",
   "metadata": {},
   "source": [
    "# K-Means Techniques"
   ]
  },
  {
   "cell_type": "code",
   "execution_count": 13,
   "id": "b4c2aa17",
   "metadata": {},
   "outputs": [],
   "source": [
    "# Apply clustering (e.g., K-Means)\n",
    "kmeans = KMeans(n_clusters=3 ) \n",
    "cluster_labels = kmeans.fit_predict(pca_result)\n"
   ]
  },
  {
   "cell_type": "code",
   "execution_count": 14,
   "id": "23d00223",
   "metadata": {},
   "outputs": [],
   "source": [
    "# Silhouette score evaluation\n",
    "kmeans_score = silhouette_score(pca_result, cluster_labels)"
   ]
  },
  {
   "cell_type": "code",
   "execution_count": 15,
   "id": "e89afc0e",
   "metadata": {},
   "outputs": [
    {
     "name": "stdout",
     "output_type": "stream",
     "text": [
      "The KMeans Silhouette Score is :  0.4474162585001583\n"
     ]
    }
   ],
   "source": [
    "print('The KMeans Silhouette Score is : ', kmeans_score)"
   ]
  },
  {
   "cell_type": "code",
   "execution_count": 16,
   "id": "57c39cf8",
   "metadata": {},
   "outputs": [
    {
     "data": {
      "image/png": "[encoded data removed]",
      "text/plain": [
       "<Figure size 432x288 with 1 Axes>"
      ]
     },
     "metadata": {
      "needs_background": "light"
     },
     "output_type": "display_data"
    }
   ],
   "source": [
    "# Plot PCA-reduced data with clusters\n",
    "plt.scatter(pca_result[:, 0], pca_result[:, 1], c=cluster_labels, cmap='viridis')\n",
    "plt.title('PCA-Reduced Data with KMeans Clusters')\n",
    "plt.xlabel('PCA X Component')\n",
    "plt.ylabel('PCA Y Component')\n",
    "plt.show()"
   ]
  },
  {
   "cell_type": "code",
   "execution_count": 17,
   "id": "a18ae575",
   "metadata": {},
   "outputs": [],
   "source": [
    "from sklearn.cluster import  estimate_bandwidth\n",
    "bandwidth = estimate_bandwidth(pca_result, quantile=0.2)"
   ]
  },
  {
   "cell_type": "markdown",
   "id": "1e903ce4",
   "metadata": {},
   "source": [
    "# MeanShift Clustering"
   ]
  },
  {
   "cell_type": "code",
   "execution_count": 18,
   "id": "86a0fe5f",
   "metadata": {},
   "outputs": [],
   "source": [
    "# clustering MeanShift\n",
    "MeanShift = MeanShift(bandwidth = bandwidth)  \n",
    "meanshift_labels = MeanShift.fit_predict(pca_result)"
   ]
  },
  {
   "cell_type": "code",
   "execution_count": 19,
   "id": "624d1121",
   "metadata": {},
   "outputs": [],
   "source": [
    "# Silhouette score evaluation\n",
    "MeanShift_score = silhouette_score(pca_result, meanshift_labels)"
   ]
  },
  {
   "cell_type": "code",
   "execution_count": 20,
   "id": "af7840bf",
   "metadata": {},
   "outputs": [
    {
     "name": "stdout",
     "output_type": "stream",
     "text": [
      "The M MeanShift Score is :  0.37608130710685567\n"
     ]
    }
   ],
   "source": [
    "print('The M MeanShift Score is : ', MeanShift_score)"
   ]
  },
  {
   "cell_type": "code",
   "execution_count": 21,
   "id": "d4b92efb",
   "metadata": {},
   "outputs": [
    {
     "data": {
      "image/png": "[encoded data removed]",
      "text/plain": [
       "<Figure size 432x288 with 1 Axes>"
      ]
     },
     "metadata": {
      "needs_background": "light"
     },
     "output_type": "display_data"
    }
   ],
   "source": [
    "\n",
    "plt.scatter(pca_result[:, 0], pca_result[:, 1], c=meanshift_labels , cmap='viridis')\n",
    "plt.title('PCA-Reduced Data with MeanShift Clusters')\n",
    "plt.xlabel('PCA X component')\n",
    "plt.ylabel('PCA Y Component')\n",
    "plt.show()"
   ]
  },
  {
   "cell_type": "markdown",
   "id": "318060c8",
   "metadata": {},
   "source": [
    "# Hierarchical Clustering"
   ]
  },
  {
   "cell_type": "code",
   "execution_count": 25,
   "id": "d9ab27a9",
   "metadata": {},
   "outputs": [],
   "source": [
    "hierarchical = AgglomerativeClustering(n_clusters=3) \n",
    "hierarchical_labels = hierarchical.fit_predict(pca_result)"
   ]
  },
  {
   "cell_type": "code",
   "execution_count": 26,
   "id": "ba7bda15",
   "metadata": {},
   "outputs": [],
   "source": [
    "# Silhouette score evaluation\n",
    "hierarchical_score = silhouette_score(pca_result, hierarchical_labels)"
   ]
  },
  {
   "cell_type": "code",
   "execution_count": 27,
   "id": "a97a0e13",
   "metadata": {},
   "outputs": [
    {
     "name": "stdout",
     "output_type": "stream",
     "text": [
      "The M hierarchical Score is :  0.33408582729390884\n"
     ]
    }
   ],
   "source": [
    "print('The M hierarchical Score is : ', hierarchical_score)"
   ]
  },
  {
   "cell_type": "code",
   "execution_count": 28,
   "id": "b524cb96",
   "metadata": {},
   "outputs": [
    {
     "data": {
      "image/png": "[encoded data removed]",
      "text/plain": [
       "<Figure size 432x288 with 1 Axes>"
      ]
     },
     "metadata": {
      "needs_background": "light"
     },
     "output_type": "display_data"
    }
   ],
   "source": [
    "# Plot PCA-reduced data with clusters\n",
    "plt.scatter(pca_result[:, 0], pca_result[:, 1], c=hierarchical_labels, cmap='viridis')\n",
    "plt.title('PCA-Reduced Data with hierarchical Clusters')\n",
    "plt.xlabel('PCA X component')\n",
    "plt.ylabel('PCA Y Component')\n",
    "plt.show()"
   ]
  },
  {
   "cell_type": "code",
   "execution_count": null,
   "id": "caf6ea20",
   "metadata": {},
   "outputs": [],
   "source": []
  },
  {
   "cell_type": "code",
   "execution_count": null,
   "id": "d299e295",
   "metadata": {},
   "outputs": [],
   "source": []
  }
 ],
 "metadata": {
  "kernelspec": {
   "display_name": "Python 3",
   "language": "python",
   "name": "python3"
  },
  "language_info": {
   "codemirror_mode": {
    "name": "ipython",
    "version": 3
   },
   "file_extension": ".py",
   "mimetype": "text/x-python",
   "name": "python",
   "nbconvert_exporter": "python",
   "pygments_lexer": "ipython3",
   "version": "3.8.8"
  }
 },
 "nbformat": 4,
 "nbformat_minor": 5
}
